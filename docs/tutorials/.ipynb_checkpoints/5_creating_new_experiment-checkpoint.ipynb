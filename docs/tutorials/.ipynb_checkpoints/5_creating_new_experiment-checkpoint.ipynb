{
 "cells": [
  {
   "cell_type": "markdown",
   "metadata": {},
   "source": [
    "# Create New Experiment\n",
    "In this tutorial, you will learn about the contents of the parameter files that are used in the Intprim ROS framework. After completion, you should be familiar with the functionality/responsibility of each parameter."
   ]
  },
  {
   "cell_type": "markdown",
   "metadata": {
    "ein.tags": "worksheet-0",
    "slideshow": {
     "slide_type": "-"
    }
   },
   "source": [
    "## **1.1 Setting up an Experiment**\n",
    "In order to create an experiment, it is useful to know how the Intprim ROS framework is structured. The launchfile (which starts up Intprim Service) begins by loading the user's parameter files to the ROS server. Let's start by examining the contents of the launchfile:"
   ]
  },
  {
   "cell_type": "code",
   "execution_count": 1,
   "metadata": {
    "autoscroll": false,
    "ein.hycell": false,
    "ein.tags": "worksheet-0",
    "scrolled": false,
    "slideshow": {
     "slide_type": "-"
    }
   },
   "outputs": [
    {
     "name": "stdout",
     "output_type": "stream",
     "text": [
      "<launch>\r\n",
      "    <rosparam command=\"load\" file=\"$(find intprim_framework_ros)/param/interaction.yaml\"/>\r\n",
      "    <rosparam command=\"load\" file=\"$(find intprim_framework_ros)/param/experiments.yaml\"/>\r\n",
      "    <rosparam command=\"load\" file=\"$(find intprim_framework_ros)/param/intprim_param.yaml\"/>\r\n",
      "\r\n",
      "    <node name=\"intprim_service_node\" pkg=\"intprim_framework_ros\" type=\"intprim_service.py\" output=\"screen\" respawn=\"true\" />\r\n",
      "\r\n",
      "    <node name=\"interaction_application_node\" pkg=\"intprim_framework_ros\" type=\"interaction_application\" output=\"screen\" required=\"true\"/>\r\n",
      "</launch>\r\n"
     ]
    }
   ],
   "source": [
    "!cat ../../launch/interaction_application.launch"
   ]
  },
  {
   "cell_type": "markdown",
   "metadata": {
    "ein.tags": "worksheet-0",
    "slideshow": {
     "slide_type": "-"
    }
   },
   "source": [
    "As you can see, there are three parameter (.yaml) files that are loaded first. These files define metadata, robots, devices, and tunable parameters. The diagram below represents the execution flow after running `roslaunch intprim_framework_ros interaction_application.launch`:"
   ]
  },
  {
   "cell_type": "markdown",
   "metadata": {
    "ein.tags": "worksheet-0",
    "slideshow": {
     "slide_type": "-"
    }
   },
   "source": [
    "<img src=\"../media/roslaunch.png\" width=\"1000\" />"
   ]
  },
  {
   "cell_type": "markdown",
   "metadata": {
    "ein.tags": "worksheet-0",
    "slideshow": {
     "slide_type": "-"
    }
   },
   "source": [
    "### 1.1.1 Configuring experiments.yaml\n",
    "The experiments.yaml file contains a list of experiments that can be executed with Intprim. As you can see below, there is only one experiment in this file; however, if you have multiple experiments, you can maintain a list of them here."
   ]
  },
  {
   "cell_type": "code",
   "execution_count": 2,
   "metadata": {
    "autoscroll": false,
    "ein.hycell": false,
    "ein.tags": "worksheet-0",
    "scrolled": true,
    "slideshow": {
     "slide_type": "-"
    }
   },
   "outputs": [
    {
     "name": "stdout",
     "output_type": "stream",
     "text": [
      "experiments:\r\n",
      "-   id: 0\r\n",
      "    name: \"Simple Experiment\"\r\n",
      "    timeout: 10 # In seconds\r\n",
      "    sub_actions:\r\n",
      "    -   prefix: \"simple\"\r\n",
      "        message: \"Prepare to execute arbitrary trajectory...\"\r\n",
      "    devices:\r\n",
      "    -   \"ur5\"\r\n",
      "    -   \"rigid_body\"\r\n",
      "    controller: \"ur5\" # \"none\"\r\n",
      "    error: \"none\"\r\n"
     ]
    }
   ],
   "source": [
    "!cat ../../param/experiments.yaml"
   ]
  },
  {
   "cell_type": "markdown",
   "metadata": {
    "ein.tags": "worksheet-0",
    "slideshow": {
     "slide_type": "-"
    }
   },
   "source": [
    "| experiments.yaml \t| params \t|\n",
    "|:------------------|:--------\t|\n",
    "| id               \t| Experiment id number. This is directly linked to (and should be consistent with) the intprim_param.yaml file's id numbers (which contains more specific information about this particular experiment).      \t|\n",
    "| name             \t| Name as appears on the intprim launch screen       \t|\n",
    "| timeout          \t| Maximum time for the interaction to take place       \t|\n",
    "| sub_actions      \t|        \t|\n",
    "| devices          \t| Names of the devices that will be used during the interaction. These device names specify which drivers to use for controlling the robot during an interaction.        \t|\n",
    "| controller       \t| The device driver to use for controlling the robot.       \t|\n",
    "| error            \t| \"none\"       \t|"
   ]
  },
  {
   "cell_type": "markdown",
   "metadata": {
    "ein.tags": "worksheet-0",
    "slideshow": {
     "slide_type": "-"
    }
   },
   "source": [
    "### 1.1.2 Configuring intprim_param.yaml\n",
    "The intprim_param.yaml file is loaded as the \"bip\" param for ROS. This parameter file stores all of the information related to the degrees of freedom being captured during the experiment and the filter being used."
   ]
  },
  {
   "cell_type": "code",
   "execution_count": 3,
   "metadata": {
    "autoscroll": false,
    "ein.hycell": false,
    "ein.tags": "worksheet-0",
    "scrolled": true,
    "slideshow": {
     "slide_type": "-"
    }
   },
   "outputs": [
    {
     "name": "stdout",
     "output_type": "stream",
     "text": [
      "bip:\r\n",
      "-   id: 0\r\n",
      "    name: \"SimpleExample\"\r\n",
      "    modalities:\r\n",
      "    -   name: \"ur5\"\r\n",
      "        indices: [0, 6]\r\n",
      "        dof_names: [\r\n",
      "            \"Robot Pos 1\",\r\n",
      "            \"Robot Pos 2\",\r\n",
      "            \"Robot Pos 3\",\r\n",
      "            \"Robot Pos 4\",\r\n",
      "            \"Robot Pos 5\",\r\n",
      "            \"Robot Pos 6\"\r\n",
      "        ]\r\n",
      "        basis_model:\r\n",
      "            type: \"Polynomial\"\r\n",
      "            degree: 12\r\n",
      "            scale: 0.04\r\n",
      "            start_phase: 0.0\r\n",
      "            end_phase: 1.0\r\n",
      "        scaling_groups : [\r\n",
      "            0,\r\n",
      "            0,\r\n",
      "            0,\r\n",
      "            0,\r\n",
      "            0,\r\n",
      "            0\r\n",
      "        ]\r\n",
      "        noise_bias: 0.0 # Added to the measurement noise for each DoF of this modality.\r\n",
      "        generate: true\r\n",
      "        active: true\r\n",
      "        active_from: 0.0 # Each DoF will only be active when the estimated phase is between from/until. When inactive, it will not be perturbed by noise and the measurement noise will be increased.\r\n",
      "        active_until: 1.01\r\n",
      "    #--------------------------------------------------------------------------\r\n",
      "    -   name: \"box pos\"\r\n",
      "        indices: [6, 9]\r\n",
      "        dof_names: [\r\n",
      "            \"Box X\",\r\n",
      "            \"Box Y\",\r\n",
      "            \"Box Z\"\r\n",
      "        ]\r\n",
      "        basis_model:\r\n",
      "            type: \"Gaussian\"\r\n",
      "            degree: 9\r\n",
      "            scale: 0.04\r\n",
      "            start_phase: 0.0\r\n",
      "            end_phase: 1.0\r\n",
      "        scaling_groups: [\r\n",
      "            1,\r\n",
      "            1,\r\n",
      "            1\r\n",
      "        ]\r\n",
      "        noise_bias: 0.0 # Added to the measurement noise for each DoF of this modality.\r\n",
      "        generate: false\r\n",
      "        active: true\r\n",
      "        active_from: 0.0 # Each DoF will only be active when the estimated phase is between from/until. When inactive, it will not be perturbed by noise and the measurement noise will be increased.\r\n",
      "        active_until: 1.01\r\n",
      "    #--------------------------------------------------------------------------\r\n",
      "    -   name: \"box orien\"\r\n",
      "        indices: [9, 13]\r\n",
      "        dof_names: [\r\n",
      "            \"Box Ori W\",\r\n",
      "            \"Box Ori X\",\r\n",
      "            \"Box Ori Y\",\r\n",
      "            \"Box Ori Z\"\r\n",
      "        ]\r\n",
      "        basis_model:\r\n",
      "            type: \"Gaussian\"\r\n",
      "            degree: 7\r\n",
      "            scale: 0.07\r\n",
      "            start_phase: 0.0\r\n",
      "            end_phase: 1.0\r\n",
      "        scaling_groups: [\r\n",
      "            2,\r\n",
      "            2,\r\n",
      "            2,\r\n",
      "            2\r\n",
      "        ]\r\n",
      "        noise_bias: 0.0 # Added to the measurement noise for each DoF of this modality.\r\n",
      "        generate: false\r\n",
      "        active: false\r\n",
      "        active_from: 0.0 # Each DoF will only be active when the estimated phase is between from/until. When inactive, it will not be perturbed by noise and the measurement noise will be increased.\r\n",
      "        active_until: 1.01\r\n",
      "    #--------------------------------------------------------------------------\r\n",
      "    filter:\r\n",
      "        name: \"enkf\"\r\n",
      "        ensemble_size: 100 # Max number of demonstrations!\r\n",
      "        initial_phase: 0.0\r\n",
      "        initial_phase_variance: 0.01\r\n",
      "        initial_phase_velocity: 0.003\r\n",
      "        initial_phase_velocity_variance: 5e-07\r\n",
      "        initial_phase_acceleration: 0.0001\r\n",
      "        initial_phase_acceleration_variance: 4.012610510198e-10\r\n",
      "        process_variance: 1e-7\r\n",
      "        time_delta: 1.0\r\n",
      "        measurement_noise_bias: 10000.0\r\n",
      "        system_order: 1\r\n",
      "    prior:\r\n",
      "        init_with_demonstrations: true # If this is true, the ensemble_size is upper bounded by the number of demonstrations available.\r\n",
      "        reg_covar: 1e-6\r\n",
      "        num_components: 1\r\n",
      "    num_samples: 40\r\n",
      "    phase_lookahead: 0.00\r\n",
      "    scale_observations: false # Perform basis standardization\r\n",
      "    cyclical: false # If true, the phase will roll back to 0 once it is >= 1.\r\n",
      "    debug: true\r\n",
      "    import_data: \"<path>/trained_bip.bip\"\r\n",
      "    observation_noise: \"<path>/observation_noise.noise\"\r\n",
      "    mip_test_directory: \"<path>\"\r\n",
      "    debug_directory: \"<path>/debug\"\r\n",
      "    config_name: \"Config1\"\r\n",
      "    primary: true\r\n"
     ]
    }
   ],
   "source": [
    "!cat ../../param/intprim_param.yaml"
   ]
  },
  {
   "cell_type": "markdown",
   "metadata": {
    "ein.tags": "worksheet-0",
    "slideshow": {
     "slide_type": "-"
    }
   },
   "source": [
    "| intprim_param.yaml params |  Param Description |\n",
    "|:----------|:------------|\n",
    "| id | Identifier of a specific Intprim model. This allows definitions for mulitple models. |\n",
    "| name | Title of the interaction |\n",
    "| modalities | A list of objects containing the following information |\n",
    "| [**filter**](#filter) | Information related to the type of filter used for inference. Set the Kalman filter parameters here. |\n",
    "| [**prior**](#prior) |  |\n",
    "| num_samples | How many samples was the model trained on? |\n",
    "| phase_lookahead |  |\n",
    "| scale_observations | This indicates if we perform basis standardization or not. |\n",
    "| cyclical | Is the interaction cyclical? I.e, are we expecting the phase to start back at zero after we are at 100% interaction? |\n",
    "| debug | This indicates whether the inference statistics and filtering predictions should be published and exported during runtime. If true, you can interact with the visual tool provided to debug predictions and infer why actions were chosen. |\n",
    "| import_data | Where is the exported bip model located? |\n",
    "| observation_noise | Where is the observation_noise associated with the model located (full path)? |\n",
    "| mip_test_directory | When you train samples using the Intprim GUI, this is the default location where the application will look. |\n",
    "| debug_directory | path to debug directory |\n",
    "| config_name | config name |\n",
    "| primary | ? |\n",
    "\n",
    "<a name=\"filter\"></a>\n",
    "\n",
    "| filter                              \t|   Param description\t|\n",
    "|:-------------------------------------\t|:---\t|\n",
    "| name                                \t| name of filter to be used (ekf (extended kalman filter), enkf (ensemble kalman filter)  \t|\n",
    "| ensemble_size                       \t| Tbd. Maximum number of demonstrations.  \t|\n",
    "| initial_phase                       \t| Tbd. Indicates the percentage (start) of the phase.  \t|\n",
    "| initial_phase_variance              \t| What is the variance associated with the initial phase estimate? Ex: 0.01 |\n",
    "| initial_phase_velocity              \t| Tbd. Can be found from the grid search parameters function in intprim.  \t|\n",
    "| initial_phase_velocity_variance     \t| Tbd. Can be found from the grid search parameters function in intprim.  \t|\n",
    "| initial_phase_acceleration          \t| Tbd. What is the acceleration of the initial phase?  \t|\n",
    "| initial_phase_acceleration_variance \t| Tbd. Can be found from the grid search parameters function in intprim.  \t|\n",
    "| process_variance                    \t| tbd  \t|\n",
    "| time_delta                          \t| tbd. Indicates how much time to move forward in the interaction after one iteration/observation.  \t|\n",
    "| measurement_noise_bias              \t| tbd. States how much to scale the measurement noise by.  \t|\n",
    "| system_order                        \t| tbd  \t|\n",
    "\n",
    "<a name=\"prior\"></a>\n",
    "\n",
    "| prior                    \t|   \t|\n",
    "|:--------------------------|:---\t|\n",
    "| init_with_demonstrations \t| Tbd. Should we initialize the prior based on the demonstration data?  \t|\n",
    "| reg_covar                \t| Do we add regularization? If so, this is the hyperparam for it. 0 for no regularization.  \t|\n",
    "| num_components           \t| Number of principal components used in the analysis. Value should be between 1 and number of degrees of freedom.  \t|"
   ]
  },
  {
   "cell_type": "markdown",
   "metadata": {
    "ein.tags": "worksheet-0",
    "slideshow": {
     "slide_type": "-"
    }
   },
   "source": [
    "### 1.1.3 Configuring interaction.yaml\n",
    "The interaction.yaml file contains many tunable parameters related to the device, such as PID control and maximum velocity."
   ]
  },
  {
   "cell_type": "code",
   "execution_count": 4,
   "metadata": {
    "scrolled": true
   },
   "outputs": [
    {
     "name": "stdout",
     "output_type": "stream",
     "text": [
      "interaction:\r\n",
      "    observation_frequency: 40.0\r\n",
      "    max_observation_length: 800\r\n",
      "    min_observation_length: 1\r\n",
      "    response_frequency: 30.0\r\n",
      "    single_point_trajectory: # Whether to only generate a trajectory consisting of a single point at the given phase.\r\n",
      "        use: false\r\n",
      "        phase: \"current\" # This can either be a floating point value indicating a specific phase to generate at, or \"current\" to use the currently estimated phase.\r\n",
      "    start_generation_phase: 0.07 # Start generating trajectories if estimated phase exceeds this value.\r\n",
      "    stop_generation_phase: 1.1 # Stop generating trajectories if estimated phase exceeds this value.\r\n",
      "    playback_factor: 1.0\r\n",
      "    default_record_dir: \"record_dir\"\r\n",
      "    default_playback_dir: \"playback_dir\"\r\n",
      "control:\r\n",
      "    control_topic: \"/continuous_controller\"\r\n",
      "    ur5:\r\n",
      "        p_gain: 1.5\r\n",
      "        i_gain: 0.0\r\n",
      "        d_gain: 0.0\r\n",
      "        max_i: 0.5\r\n",
      "        min_i: -0.5\r\n",
      "        max_velocity: 7.0\r\n",
      "        max_acceleration: 7.0\r\n",
      "        joint_distance_threshold: 0.13\r",
      "\r\n",
      "        control_time_buffer: 1.0\r\n",
      "        control_frequency: 30\r\n"
     ]
    }
   ],
   "source": [
    "!cat ../../param/interaction.yaml"
   ]
  },
  {
   "cell_type": "markdown",
   "metadata": {
    "ein.tags": "worksheet-0",
    "slideshow": {
     "slide_type": "-"
    }
   },
   "source": [
    "| interaction.yaml params \t| description \t|\n",
    "|:-------------------------\t|:-------------\t|\n",
    "| [**interaction**](#interaction)            \t|  describes the interaction           \t|\n",
    "| [**control**](#control)                 \t|  describes the control           \t|\n",
    "\n",
    "<a name=\"interaction\"></a>\n",
    "\n",
    "| interaction             \t|   \t|\n",
    "|:-------------------------\t|:---\t|\n",
    "| observation_frequency   \t| tbd. What frequency (Hz) are the observations being received at? This value should be the same as the rate at which ROS topics are echoed from the robot. (or the csv time step??)\t|\n",
    "| max_observation_length  \t| tbd. Maximum number of frames that are present in the CSV file.  \t|\n",
    "| min_observation_length  \t| tbd. Minimum number of frames that are present in the CSV file.  \t|\n",
    "| response_frequency      \t| At what frequency (Hz) should Intprim (ideally) output commands to control the robot? This may be limited by hardware capabilities, network speeds, and various factors that affect performance.  \t|\n",
    "| [**single_point_trajectory**](#spt) \t| Whether to only generate a trajectory consisting of a single point at the given phase.|\n",
    "| start_generation_phase  \t|   \t|\n",
    "| stop_generation_phase   \t|   \t|\n",
    "| playback_factor         \t|   \t|\n",
    "| default_record_dir      \t|   \t|\n",
    "| default_playback_dir    \t|   \t|\n",
    "\n",
    "<a name=\"control\"></a>\n",
    "\n",
    "| control       \t|   \t|\n",
    "|:---------------\t|:---\t|\n",
    "| control_topic \t|   \t|\n",
    "| [**robot_name**](#robot_name)  \t|   \t|\n",
    "\n",
    "<a name=\"robot_name\"></a>\n",
    "\n",
    "| robot_name               \t|   \t|\n",
    "|:--------------------------|:---\t|\n",
    "| p_gain                   \t|   \t|\n",
    "| i_gain                   \t|   \t|\n",
    "| d_gain                   \t|   \t|\n",
    "| max_i                    \t|   \t|\n",
    "| min_i                    \t|   \t|\n",
    "| max_velocity             \t|   \t|\n",
    "| max_acceleration         \t|   \t|\n",
    "| joint_distance_threshold \t|   \t|\n",
    "| control_time_buffer      \t|   \t|\n",
    "| control_frequency        \t|   \t|\n",
    "\n",
    "<a name=\"spt\"></a>\n",
    "\n",
    "| single_point_trajectory |   \t|\n",
    "|:---------------|:---\t|\n",
    "| use \t|   \t|\n",
    "| phase  \t|   \t|"
   ]
  },
  {
   "cell_type": "markdown",
   "metadata": {},
   "source": [
    "# Summary\n",
    "By creating three paramater files (shown above), you are able to run an experiment and perform inference with custom settings. Placing the files into the same launch file is necessary and can be done as found in the interaction_application.launch file."
   ]
  }
 ],
 "metadata": {
  "kernelspec": {
   "display_name": "Python 2",
   "language": "python",
   "name": "python2"
  },
  "language_info": {
   "codemirror_mode": {
    "name": "ipython",
    "version": 2
   },
   "file_extension": ".py",
   "mimetype": "text/x-python",
   "name": "python",
   "nbconvert_exporter": "python",
   "pygments_lexer": "ipython2",
   "version": "2.7.17"
  }
 },
 "nbformat": 4,
 "nbformat_minor": 2
}
